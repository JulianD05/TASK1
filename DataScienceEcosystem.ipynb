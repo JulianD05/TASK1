{
  "metadata": {
    "kernelspec": {
      "name": "python",
      "display_name": "Python (Pyodide)",
      "language": "python"
    },
    "language_info": {
      "codemirror_mode": {
        "name": "python",
        "version": 3
      },
      "file_extension": ".py",
      "mimetype": "text/x-python",
      "name": "python",
      "nbconvert_exporter": "python",
      "pygments_lexer": "ipython3",
      "version": "3.8"
    }
  },
  "nbformat_minor": 5,
  "nbformat": 4,
  "cells": [
    {
      "id": "f7f9666b-1151-40ed-b8ae-4767bbcee8b2",
      "cell_type": "markdown",
      "source": "# Data Science Tools and Ecosystem",
      "metadata": {
        "jp-MarkdownHeadingCollapsed": true
      }
    },
    {
      "id": "711b17e0-caaa-4840-a02d-24ae63a771e4",
      "cell_type": "markdown",
      "source": "# In this notebook we are going to resume the data science tools and their ecosystem",
      "metadata": {}
    },
    {
      "id": "8cad3b12-70b8-46d6-bac8-6692bddeda7d",
      "cell_type": "markdown",
      "source": "# Some of most popular languages that data scientist use are:\n1. Python\n2. R\n3. SQL",
      "metadata": {
        "jp-MarkdownHeadingCollapsed": true
      }
    },
    {
      "id": "eaf9a15e-7cd6-46ae-8b63-8ddbc035814c",
      "cell_type": "markdown",
      "source": "# Some of the libraries used by data scientists include:\n1. Pandas\n2. Numpy\n3. Apache Spark",
      "metadata": {}
    },
    {
      "id": "4689c237-f114-461b-8787-c5826957944d",
      "cell_type": "markdown",
      "source": "| Tools for data science |\n| -------- |\n| Jupyter Notebook |\n| R Studio |\n| Anaconda |",
      "metadata": {}
    },
    {
      "id": "d343f072-762e-4374-8c1b-f5026ba34629",
      "cell_type": "markdown",
      "source": "### There are some examples of evaluating arithmetic expressions in Python:",
      "metadata": {}
    },
    {
      "id": "2e5da13c-1456-403d-90a9-3d2c5b8ce2de",
      "cell_type": "code",
      "source": "# This is a simple arithmetic expression to multiply and then add integers\n( 3 * 4 ) + 5",
      "metadata": {
        "trusted": true
      },
      "outputs": [
        {
          "execution_count": 6,
          "output_type": "execute_result",
          "data": {
            "text/plain": "17"
          },
          "metadata": {}
        }
      ],
      "execution_count": 6
    },
    {
      "id": "4de1f6aa-6ab5-4b04-a563-2b9dc0a4b92a",
      "cell_type": "code",
      "source": "# This will convert 200 minutes to hours by dividing by 60\n( 200 / 60 )",
      "metadata": {
        "trusted": true
      },
      "outputs": [
        {
          "execution_count": 7,
          "output_type": "execute_result",
          "data": {
            "text/plain": "3.3333333333333335"
          },
          "metadata": {}
        }
      ],
      "execution_count": 7
    },
    {
      "id": "85135449-66d5-424e-ad46-a2eb9f083d58",
      "cell_type": "markdown",
      "source": "# __Goals__ \n* Describe the capabilities of R and the RStudio environment.\n* Utilize the built-in plotting function in R.\n* Explain version control and describe the Git and GitHub environment.\n* Describe the purpose of source repositories and explain how GitHub meets the needs of a source repository.\n* Create a GitHub account and a project repository.",
      "metadata": {}
    },
    {
      "id": "d5e62b3b-3930-471d-ae7f-72a9d0d2fe41",
      "cell_type": "markdown",
      "source": "## Author\nJulian David Diaz Fernandez",
      "metadata": {}
    }
  ]
}