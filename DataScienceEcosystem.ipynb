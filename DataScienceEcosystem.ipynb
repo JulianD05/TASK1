{
 "cells": [
  {
   "cell_type": "markdown",
   "id": "f7f9666b-1151-40ed-b8ae-4767bbcee8b2",
   "metadata": {},
   "source": [
    "# Data Science Tools and Ecosystem"
   ]
  },
  {
   "cell_type": "markdown",
   "id": "711b17e0-caaa-4840-a02d-24ae63a771e4",
   "metadata": {},
   "source": [
    "# In this notebook we are going to resume the data science tools and their ecosystem"
   ]
  },
  {
   "cell_type": "markdown",
   "id": "8cad3b12-70b8-46d6-bac8-6692bddeda7d",
   "metadata": {},
   "source": [
    "# Some of most popular languages that data scientist use are:\n",
    "## 1.1 Python\n",
    "## 1.2 R\n",
    "## 1.3 SQL"
   ]
  },
  {
   "cell_type": "markdown",
   "id": "eaf9a15e-7cd6-46ae-8b63-8ddbc035814c",
   "metadata": {
    "jp-MarkdownHeadingCollapsed": true
   },
   "source": [
    "# Some of the libraries used by data scientists include:\n",
    "## 1.1 Panda\n",
    "## 1.2 Numpy\n",
    "## 1.3 Apache Spark"
   ]
  },
  {
   "cell_type": "markdown",
   "id": "4689c237-f114-461b-8787-c5826957944d",
   "metadata": {},
   "source": [
    "# Tools for data science:\n",
    "## 1.1 Jupyter Notebook\n",
    "## 1.2 R Studio\n",
    "## 1.3 PyCharm"
   ]
  },
  {
   "cell_type": "markdown",
   "id": "d343f072-762e-4374-8c1b-f5026ba34629",
   "metadata": {},
   "source": [
    "### There are some examples of evaluating arithmetic expressions in Python:"
   ]
  },
  {
   "cell_type": "markdown",
   "id": "e1c0a611-b974-4842-86e9-09969c2db859",
   "metadata": {},
   "source": [
    "### This is a simple arithmetic expression to multiply and then add integers"
   ]
  },
  {
   "cell_type": "code",
   "execution_count": 6,
   "id": "2e5da13c-1456-403d-90a9-3d2c5b8ce2de",
   "metadata": {},
   "outputs": [
    {
     "data": {
      "text/plain": [
       "17"
      ]
     },
     "execution_count": 6,
     "metadata": {},
     "output_type": "execute_result"
    }
   ],
   "source": [
    "( 3 * 4 ) + 5"
   ]
  },
  {
   "cell_type": "markdown",
   "id": "0d34752d-ecc3-4ca6-ae06-ea7ca44a0218",
   "metadata": {},
   "source": [
    "### This will convert 200 minutes to hours by dividing by 60"
   ]
  },
  {
   "cell_type": "code",
   "execution_count": 7,
   "id": "4de1f6aa-6ab5-4b04-a563-2b9dc0a4b92a",
   "metadata": {},
   "outputs": [
    {
     "data": {
      "text/plain": [
       "3.3333333333333335"
      ]
     },
     "execution_count": 7,
     "metadata": {},
     "output_type": "execute_result"
    }
   ],
   "source": [
    "( 200 / 60 )"
   ]
  },
  {
   "cell_type": "markdown",
   "id": "85135449-66d5-424e-ad46-a2eb9f083d58",
   "metadata": {},
   "source": [
    "# __Goals__ \n",
    "## 1. Describe the capabilities of R and the RStudio environment.\n",
    "## 2. Utilize the built-in plotting function in R.\n",
    "## 3. Explain version control and describe the Git and GitHub environment.\n",
    "## 4. Describe the purpose of source repositories and explain how GitHub meets the needs of a source repository.\n",
    "## 5. Create a GitHub account and a project repository."
   ]
  },
  {
   "cell_type": "markdown",
   "id": "d5e62b3b-3930-471d-ae7f-72a9d0d2fe41",
   "metadata": {},
   "source": [
    "## Author\n",
    "#### Julian David Diaz Fernandez"
   ]
  }
 ],
 "metadata": {
  "kernelspec": {
   "display_name": "Python 3 (ipykernel)",
   "language": "python",
   "name": "python3"
  },
  "language_info": {
   "codemirror_mode": {
    "name": "ipython",
    "version": 3
   },
   "file_extension": ".py",
   "mimetype": "text/x-python",
   "name": "python",
   "nbconvert_exporter": "python",
   "pygments_lexer": "ipython3",
   "version": "3.11.9"
  }
 },
 "nbformat": 4,
 "nbformat_minor": 5
}
